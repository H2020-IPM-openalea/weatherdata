{
 "cells": [
  {
   "cell_type": "code",
   "execution_count": null,
   "id": "afb1f69c",
   "metadata": {},
   "outputs": [],
   "source": [
    "import numpy as np\n",
    "import xarray as xr\n",
    "import pandas as pd\n",
    "from metpy.units import units\n",
    "import matplotlib.pyplot as plt"
   ]
  },
  {
   "cell_type": "code",
   "execution_count": null,
   "id": "adb06964",
   "metadata": {},
   "outputs": [],
   "source": [
    "from agroservices import IPM "
   ]
  },
  {
   "cell_type": "code",
   "execution_count": null,
   "id": "ee6e7519",
   "metadata": {},
   "outputs": [],
   "source": [
    "ipm = IPM()"
   ]
  },
  {
   "cell_type": "code",
   "execution_count": null,
   "id": "2375eaaa",
   "metadata": {},
   "outputs": [],
   "source": [
    "response=ipm.get_weatheradapter(\n",
    "        endpoint='/weatheradapter/fmi/',\n",
    "        credentials=None,\n",
    "        weatherStationId=101104, \n",
    "        timeStart='2020-06-12', \n",
    "        timeEnd='2020-07-03',\n",
    "        interval=3600, \n",
    "        parameters=[1002,3002]\n",
    "        )\n",
    "response"
   ]
  },
  {
   "cell_type": "code",
   "execution_count": null,
   "id": "4a00978f",
   "metadata": {},
   "outputs": [],
   "source": [
    "times = pd.date_range(\n",
    "        start=response['timeStart'].split('T')[0], \n",
    "        end=response['timeEnd'].split('T')[0], \n",
    "        freq=\"H\",\n",
    "        name=\"time\")\n",
    "parameter = response['weatherParameters']\n",
    "lat=np.tile(response['locationWeatherData'][0]['latitude'],(1,505))"
   ]
  },
  {
   "cell_type": "code",
   "execution_count": 93,
   "id": "d7e18c97",
   "metadata": {},
   "outputs": [
    {
     "output_type": "execute_result",
     "data": {
      "text/plain": [
       "<xarray.Dataset>\n",
       "Dimensions:    (time: 505)\n",
       "Coordinates:\n",
       "  * time       (time) datetime64[ns] 2020-06-11 ... 2020-07-02\n",
       "    latitude   float64 60.81\n",
       "    longitude  float64 23.5\n",
       "Data variables:\n",
       "    1002       (time) float64 16.2 13.7 11.5 9.9 8.7 ... 13.6 13.2 13.2 12.5\n",
       "    3002       (time) float64 63.0 75.0 85.0 94.0 97.0 ... 99.0 98.0 99.0 100.0\n",
       "Attributes:\n",
       "    weatherRessource:  fmi\n",
       "    stationId:         {'id': 101104, 'longitude': 23.49825, 'latitude': 60.8...\n",
       "    time:              {'timeStart': '2020-06-11T21:00:00Z', 'timeEnd': '2020...\n",
       "    parameter:         [1002, 3002]"
      ],
      "text/html": "<div><svg style=\"position: absolute; width: 0; height: 0; overflow: hidden\">\n<defs>\n<symbol id=\"icon-database\" viewBox=\"0 0 32 32\">\n<path d=\"M16 0c-8.837 0-16 2.239-16 5v4c0 2.761 7.163 5 16 5s16-2.239 16-5v-4c0-2.761-7.163-5-16-5z\"></path>\n<path d=\"M16 17c-8.837 0-16-2.239-16-5v6c0 2.761 7.163 5 16 5s16-2.239 16-5v-6c0 2.761-7.163 5-16 5z\"></path>\n<path d=\"M16 26c-8.837 0-16-2.239-16-5v6c0 2.761 7.163 5 16 5s16-2.239 16-5v-6c0 2.761-7.163 5-16 5z\"></path>\n</symbol>\n<symbol id=\"icon-file-text2\" viewBox=\"0 0 32 32\">\n<path d=\"M28.681 7.159c-0.694-0.947-1.662-2.053-2.724-3.116s-2.169-2.030-3.116-2.724c-1.612-1.182-2.393-1.319-2.841-1.319h-15.5c-1.378 0-2.5 1.121-2.5 2.5v27c0 1.378 1.122 2.5 2.5 2.5h23c1.378 0 2.5-1.122 2.5-2.5v-19.5c0-0.448-0.137-1.23-1.319-2.841zM24.543 5.457c0.959 0.959 1.712 1.825 2.268 2.543h-4.811v-4.811c0.718 0.556 1.584 1.309 2.543 2.268zM28 29.5c0 0.271-0.229 0.5-0.5 0.5h-23c-0.271 0-0.5-0.229-0.5-0.5v-27c0-0.271 0.229-0.5 0.5-0.5 0 0 15.499-0 15.5 0v7c0 0.552 0.448 1 1 1h7v19.5z\"></path>\n<path d=\"M23 26h-14c-0.552 0-1-0.448-1-1s0.448-1 1-1h14c0.552 0 1 0.448 1 1s-0.448 1-1 1z\"></path>\n<path d=\"M23 22h-14c-0.552 0-1-0.448-1-1s0.448-1 1-1h14c0.552 0 1 0.448 1 1s-0.448 1-1 1z\"></path>\n<path d=\"M23 18h-14c-0.552 0-1-0.448-1-1s0.448-1 1-1h14c0.552 0 1 0.448 1 1s-0.448 1-1 1z\"></path>\n</symbol>\n</defs>\n</svg>\n<style>/* CSS stylesheet for displaying xarray objects in jupyterlab.\n *\n */\n\n:root {\n  --xr-font-color0: var(--jp-content-font-color0, rgba(0, 0, 0, 1));\n  --xr-font-color2: var(--jp-content-font-color2, rgba(0, 0, 0, 0.54));\n  --xr-font-color3: var(--jp-content-font-color3, rgba(0, 0, 0, 0.38));\n  --xr-border-color: var(--jp-border-color2, #e0e0e0);\n  --xr-disabled-color: var(--jp-layout-color3, #bdbdbd);\n  --xr-background-color: var(--jp-layout-color0, white);\n  --xr-background-color-row-even: var(--jp-layout-color1, white);\n  --xr-background-color-row-odd: var(--jp-layout-color2, #eeeeee);\n}\n\nhtml[theme=dark],\nbody.vscode-dark {\n  --xr-font-color0: rgba(255, 255, 255, 1);\n  --xr-font-color2: rgba(255, 255, 255, 0.54);\n  --xr-font-color3: rgba(255, 255, 255, 0.38);\n  --xr-border-color: #1F1F1F;\n  --xr-disabled-color: #515151;\n  --xr-background-color: #111111;\n  --xr-background-color-row-even: #111111;\n  --xr-background-color-row-odd: #313131;\n}\n\n.xr-wrap {\n  display: block;\n  min-width: 300px;\n  max-width: 700px;\n}\n\n.xr-text-repr-fallback {\n  /* fallback to plain text repr when CSS is not injected (untrusted notebook) */\n  display: none;\n}\n\n.xr-header {\n  padding-top: 6px;\n  padding-bottom: 6px;\n  margin-bottom: 4px;\n  border-bottom: solid 1px var(--xr-border-color);\n}\n\n.xr-header > div,\n.xr-header > ul {\n  display: inline;\n  margin-top: 0;\n  margin-bottom: 0;\n}\n\n.xr-obj-type,\n.xr-array-name {\n  margin-left: 2px;\n  margin-right: 10px;\n}\n\n.xr-obj-type {\n  color: var(--xr-font-color2);\n}\n\n.xr-sections {\n  padding-left: 0 !important;\n  display: grid;\n  grid-template-columns: 150px auto auto 1fr 20px 20px;\n}\n\n.xr-section-item {\n  display: contents;\n}\n\n.xr-section-item input {\n  display: none;\n}\n\n.xr-section-item input + label {\n  color: var(--xr-disabled-color);\n}\n\n.xr-section-item input:enabled + label {\n  cursor: pointer;\n  color: var(--xr-font-color2);\n}\n\n.xr-section-item input:enabled + label:hover {\n  color: var(--xr-font-color0);\n}\n\n.xr-section-summary {\n  grid-column: 1;\n  color: var(--xr-font-color2);\n  font-weight: 500;\n}\n\n.xr-section-summary > span {\n  display: inline-block;\n  padding-left: 0.5em;\n}\n\n.xr-section-summary-in:disabled + label {\n  color: var(--xr-font-color2);\n}\n\n.xr-section-summary-in + label:before {\n  display: inline-block;\n  content: '►';\n  font-size: 11px;\n  width: 15px;\n  text-align: center;\n}\n\n.xr-section-summary-in:disabled + label:before {\n  color: var(--xr-disabled-color);\n}\n\n.xr-section-summary-in:checked + label:before {\n  content: '▼';\n}\n\n.xr-section-summary-in:checked + label > span {\n  display: none;\n}\n\n.xr-section-summary,\n.xr-section-inline-details {\n  padding-top: 4px;\n  padding-bottom: 4px;\n}\n\n.xr-section-inline-details {\n  grid-column: 2 / -1;\n}\n\n.xr-section-details {\n  display: none;\n  grid-column: 1 / -1;\n  margin-bottom: 5px;\n}\n\n.xr-section-summary-in:checked ~ .xr-section-details {\n  display: contents;\n}\n\n.xr-array-wrap {\n  grid-column: 1 / -1;\n  display: grid;\n  grid-template-columns: 20px auto;\n}\n\n.xr-array-wrap > label {\n  grid-column: 1;\n  vertical-align: top;\n}\n\n.xr-preview {\n  color: var(--xr-font-color3);\n}\n\n.xr-array-preview,\n.xr-array-data {\n  padding: 0 5px !important;\n  grid-column: 2;\n}\n\n.xr-array-data,\n.xr-array-in:checked ~ .xr-array-preview {\n  display: none;\n}\n\n.xr-array-in:checked ~ .xr-array-data,\n.xr-array-preview {\n  display: inline-block;\n}\n\n.xr-dim-list {\n  display: inline-block !important;\n  list-style: none;\n  padding: 0 !important;\n  margin: 0;\n}\n\n.xr-dim-list li {\n  display: inline-block;\n  padding: 0;\n  margin: 0;\n}\n\n.xr-dim-list:before {\n  content: '(';\n}\n\n.xr-dim-list:after {\n  content: ')';\n}\n\n.xr-dim-list li:not(:last-child):after {\n  content: ',';\n  padding-right: 5px;\n}\n\n.xr-has-index {\n  font-weight: bold;\n}\n\n.xr-var-list,\n.xr-var-item {\n  display: contents;\n}\n\n.xr-var-item > div,\n.xr-var-item label,\n.xr-var-item > .xr-var-name span {\n  background-color: var(--xr-background-color-row-even);\n  margin-bottom: 0;\n}\n\n.xr-var-item > .xr-var-name:hover span {\n  padding-right: 5px;\n}\n\n.xr-var-list > li:nth-child(odd) > div,\n.xr-var-list > li:nth-child(odd) > label,\n.xr-var-list > li:nth-child(odd) > .xr-var-name span {\n  background-color: var(--xr-background-color-row-odd);\n}\n\n.xr-var-name {\n  grid-column: 1;\n}\n\n.xr-var-dims {\n  grid-column: 2;\n}\n\n.xr-var-dtype {\n  grid-column: 3;\n  text-align: right;\n  color: var(--xr-font-color2);\n}\n\n.xr-var-preview {\n  grid-column: 4;\n}\n\n.xr-var-name,\n.xr-var-dims,\n.xr-var-dtype,\n.xr-preview,\n.xr-attrs dt {\n  white-space: nowrap;\n  overflow: hidden;\n  text-overflow: ellipsis;\n  padding-right: 10px;\n}\n\n.xr-var-name:hover,\n.xr-var-dims:hover,\n.xr-var-dtype:hover,\n.xr-attrs dt:hover {\n  overflow: visible;\n  width: auto;\n  z-index: 1;\n}\n\n.xr-var-attrs,\n.xr-var-data {\n  display: none;\n  background-color: var(--xr-background-color) !important;\n  padding-bottom: 5px !important;\n}\n\n.xr-var-attrs-in:checked ~ .xr-var-attrs,\n.xr-var-data-in:checked ~ .xr-var-data {\n  display: block;\n}\n\n.xr-var-data > table {\n  float: right;\n}\n\n.xr-var-name span,\n.xr-var-data,\n.xr-attrs {\n  padding-left: 25px !important;\n}\n\n.xr-attrs,\n.xr-var-attrs,\n.xr-var-data {\n  grid-column: 1 / -1;\n}\n\ndl.xr-attrs {\n  padding: 0;\n  margin: 0;\n  display: grid;\n  grid-template-columns: 125px auto;\n}\n\n.xr-attrs dt,\n.xr-attrs dd {\n  padding: 0;\n  margin: 0;\n  float: left;\n  padding-right: 10px;\n  width: auto;\n}\n\n.xr-attrs dt {\n  font-weight: normal;\n  grid-column: 1;\n}\n\n.xr-attrs dt:hover span {\n  display: inline-block;\n  background: var(--xr-background-color);\n  padding-right: 10px;\n}\n\n.xr-attrs dd {\n  grid-column: 2;\n  white-space: pre-wrap;\n  word-break: break-all;\n}\n\n.xr-icon-database,\n.xr-icon-file-text2 {\n  display: inline-block;\n  vertical-align: middle;\n  width: 1em;\n  height: 1.5em !important;\n  stroke-width: 0;\n  stroke: currentColor;\n  fill: currentColor;\n}\n</style><pre class='xr-text-repr-fallback'>&lt;xarray.Dataset&gt;\nDimensions:    (time: 505)\nCoordinates:\n  * time       (time) datetime64[ns] 2020-06-11 ... 2020-07-02\n    latitude   float64 60.81\n    longitude  float64 23.5\nData variables:\n    1002       (time) float64 16.2 13.7 11.5 9.9 8.7 ... 13.6 13.2 13.2 12.5\n    3002       (time) float64 63.0 75.0 85.0 94.0 97.0 ... 99.0 98.0 99.0 100.0\nAttributes:\n    weatherRessource:  fmi\n    stationId:         {&#x27;id&#x27;: 101104, &#x27;longitude&#x27;: 23.49825, &#x27;latitude&#x27;: 60.8...\n    time:              {&#x27;timeStart&#x27;: &#x27;2020-06-11T21:00:00Z&#x27;, &#x27;timeEnd&#x27;: &#x27;2020...\n    parameter:         [1002, 3002]</pre><div class='xr-wrap' hidden><div class='xr-header'><div class='xr-obj-type'>xarray.Dataset</div></div><ul class='xr-sections'><li class='xr-section-item'><input id='section-f1389782-4476-4e5d-893a-c8f6a94dd009' class='xr-section-summary-in' type='checkbox' disabled ><label for='section-f1389782-4476-4e5d-893a-c8f6a94dd009' class='xr-section-summary'  title='Expand/collapse section'>Dimensions:</label><div class='xr-section-inline-details'><ul class='xr-dim-list'><li><span class='xr-has-index'>time</span>: 505</li></ul></div><div class='xr-section-details'></div></li><li class='xr-section-item'><input id='section-e60f6a99-d458-403a-bf44-42a0b064f0d1' class='xr-section-summary-in' type='checkbox'  checked><label for='section-e60f6a99-d458-403a-bf44-42a0b064f0d1' class='xr-section-summary' >Coordinates: <span>(3)</span></label><div class='xr-section-inline-details'></div><div class='xr-section-details'><ul class='xr-var-list'><li class='xr-var-item'><div class='xr-var-name'><span class='xr-has-index'>time</span></div><div class='xr-var-dims'>(time)</div><div class='xr-var-dtype'>datetime64[ns]</div><div class='xr-var-preview xr-preview'>2020-06-11 ... 2020-07-02</div><input id='attrs-2014b7ca-44e7-47a0-bd81-0d709e206b60' class='xr-var-attrs-in' type='checkbox' disabled><label for='attrs-2014b7ca-44e7-47a0-bd81-0d709e206b60' title='Show/Hide attributes'><svg class='icon xr-icon-file-text2'><use xlink:href='#icon-file-text2'></use></svg></label><input id='data-3b28db5c-eb76-4cc2-baf3-acb1202bb2b7' class='xr-var-data-in' type='checkbox'><label for='data-3b28db5c-eb76-4cc2-baf3-acb1202bb2b7' title='Show/Hide data repr'><svg class='icon xr-icon-database'><use xlink:href='#icon-database'></use></svg></label><div class='xr-var-attrs'><dl class='xr-attrs'></dl></div><div class='xr-var-data'><pre>array([&#x27;2020-06-11T00:00:00.000000000&#x27;, &#x27;2020-06-11T01:00:00.000000000&#x27;,\n       &#x27;2020-06-11T02:00:00.000000000&#x27;, ..., &#x27;2020-07-01T22:00:00.000000000&#x27;,\n       &#x27;2020-07-01T23:00:00.000000000&#x27;, &#x27;2020-07-02T00:00:00.000000000&#x27;],\n      dtype=&#x27;datetime64[ns]&#x27;)</pre></div></li><li class='xr-var-item'><div class='xr-var-name'><span>latitude</span></div><div class='xr-var-dims'>()</div><div class='xr-var-dtype'>float64</div><div class='xr-var-preview xr-preview'>60.81</div><input id='attrs-dc259fdb-8738-48ff-afd5-b00a7fb88a15' class='xr-var-attrs-in' type='checkbox' disabled><label for='attrs-dc259fdb-8738-48ff-afd5-b00a7fb88a15' title='Show/Hide attributes'><svg class='icon xr-icon-file-text2'><use xlink:href='#icon-file-text2'></use></svg></label><input id='data-dcf1dfe6-14fa-4f4e-8f95-36fd5f82ae28' class='xr-var-data-in' type='checkbox'><label for='data-dcf1dfe6-14fa-4f4e-8f95-36fd5f82ae28' title='Show/Hide data repr'><svg class='icon xr-icon-database'><use xlink:href='#icon-database'></use></svg></label><div class='xr-var-attrs'><dl class='xr-attrs'></dl></div><div class='xr-var-data'><pre>array(60.81397)</pre></div></li><li class='xr-var-item'><div class='xr-var-name'><span>longitude</span></div><div class='xr-var-dims'>()</div><div class='xr-var-dtype'>float64</div><div class='xr-var-preview xr-preview'>23.5</div><input id='attrs-4c09aa7c-19ed-4c07-a5dc-536e4fdf9cbe' class='xr-var-attrs-in' type='checkbox' disabled><label for='attrs-4c09aa7c-19ed-4c07-a5dc-536e4fdf9cbe' title='Show/Hide attributes'><svg class='icon xr-icon-file-text2'><use xlink:href='#icon-file-text2'></use></svg></label><input id='data-30365f27-4638-44cf-a6fe-4a7c5bb9ff0e' class='xr-var-data-in' type='checkbox'><label for='data-30365f27-4638-44cf-a6fe-4a7c5bb9ff0e' title='Show/Hide data repr'><svg class='icon xr-icon-database'><use xlink:href='#icon-database'></use></svg></label><div class='xr-var-attrs'><dl class='xr-attrs'></dl></div><div class='xr-var-data'><pre>array(23.49825)</pre></div></li></ul></div></li><li class='xr-section-item'><input id='section-28ef5fb7-27ab-4457-bfca-9d979e390354' class='xr-section-summary-in' type='checkbox'  checked><label for='section-28ef5fb7-27ab-4457-bfca-9d979e390354' class='xr-section-summary' >Data variables: <span>(2)</span></label><div class='xr-section-inline-details'></div><div class='xr-section-details'><ul class='xr-var-list'><li class='xr-var-item'><div class='xr-var-name'><span>1002</span></div><div class='xr-var-dims'>(time)</div><div class='xr-var-dtype'>float64</div><div class='xr-var-preview xr-preview'>16.2 13.7 11.5 ... 13.2 13.2 12.5</div><input id='attrs-c3928a10-bdb4-4c1e-93fc-55e68f147bb4' class='xr-var-attrs-in' type='checkbox' disabled><label for='attrs-c3928a10-bdb4-4c1e-93fc-55e68f147bb4' title='Show/Hide attributes'><svg class='icon xr-icon-file-text2'><use xlink:href='#icon-file-text2'></use></svg></label><input id='data-2213f931-07f4-4b36-97be-ebb4648923e5' class='xr-var-data-in' type='checkbox'><label for='data-2213f931-07f4-4b36-97be-ebb4648923e5' title='Show/Hide data repr'><svg class='icon xr-icon-database'><use xlink:href='#icon-database'></use></svg></label><div class='xr-var-attrs'><dl class='xr-attrs'></dl></div><div class='xr-var-data'><pre>array([16.2, 13.7, 11.5,  9.9,  8.7,  9.8, 12.7, 15.7, 18.2, 19.4, 20.2,\n       21. , 22.1, 22.9, 22.7, 22.8, 23.3, 23.2, 23.2, 22.5, 22.3, 21.4,\n       19.3, 16.3, 12.9, 11.7, 10.4,  8.9,  7.9,  9. , 11.1, 15.1, 18.3,\n       20. , 21.2, 21.4, 22.7, 23.1, 22.7, 24.5, 24.8, 25.1, 24.9, 23.9,\n       23.4, 21.2, 19.9, 17.7, 15.7, 13. , 11.1,  9.4,  8.5,  9.5, 11.9,\n       15.3, 18.2, 19.6, 20.4, 21.4, 22. , 23. , 23.1, 24.2, 23.9, 24.2,\n       23.9, 23.9, 23.2, 21.7, 20.1, 17.4, 13.9, 12.1, 10.2,  9. ,  8. ,\n        8.6, 11. , 15.3, 18.8, 20.6, 21.6, 22.3, 23.3, 23.9, 24.8, 25. ,\n       25.9, 25.9, 26.3, 26.2, 25. , 23.8, 22.1, 19. , 17. , 15.6, 14.8,\n       15. , 14.8, 15.6, 16.8, 17.4, 20.4, 21.3, 21.6, 22.1, 23.3, 24.9,\n       24.1, 20.7, 23.1, 22.4, 22.6, 23.6, 23. , 20.1, 18.9, 17.9, 17.7,\n       16.7, 15.7, 15.6, 16.5, 16.3, 16.3, 16.7, 17. , 18.3, 20.6, 22.3,\n       23. , 24.7, 24.9, 24. , 25.9, 25.3, 24.7, 25.3, 24.6, 22.8, 21.1,\n       19.7, 17. , 15.4, 15.3, 15.2, 14.1, 13.4, 12.9, 13.8, 15.1, 16.1,\n       17.4, 18.5, 20.4, 21.4, 22.5, 23. , 23.5, 24.1, 23.1, 22.9, 22.1,\n       20.9, 19.7, 17.8, 15.6, 13.5, 14.4, 12.8, 11. , 11.9, 14.7, 16.4,\n       18.4, 19.8, 22. , 23.3, 23.4, 24.1, 25.1, 25.5, 26.1, 24.8, 25.9,\n       24.9, 24.3, 22.9, 21.6, 20. , 18.7, 17.8, 16.2, 16. , 15.8, 16. ,\n       16.9, 18.1, 19.6, 21.3, 21.8, 23.1, 23.3, 24.1, 24.2, 24.6, 25.2,\n       24.8, 24.6, 24.2, 24.1, 23.1, 21.9, 20.1, 17.9, 16.3, 14.5, 12.6,\n...\n       22.1, 20.2, 18.1, 16.9, 15.2, 13.6, 12.8, 13.2, 14.5, 18.6, 21.1,\n       23.9, 25.3, 26.3, 26.8, 27.5, 27.9, 28.5, 28.6, 28.8, 28.6, 28.3,\n       27.1, 25.7, 23.5, 20.6, 19.4, 17.4, 15. , 13.6, 12.3, 13.1, 14.6,\n       18.4, 20.5, 22.6, 24.3, 25.7, 26.6, 28.3, 29. , 29.6, 29.6, 30.5,\n       29. , 28.5, 27.1, 25.7, 24. , 22.1, 18.9, 17.6, 16.3, 14.4, 13.4,\n       15.1, 15.9, 17.6, 19.5, 21. , 22.7, 24.1, 25.1, 26. , 26.8, 27.2,\n       27.5, 28.7, 27.8, 26.6, 25.6, 23.8, 22.2, 20.2, 17.8, 17.1, 13.6,\n       13. , 12.5, 13.1, 15.3, 18. , 20.2, 22.5, 24.8, 26.3, 27.3, 28.4,\n       28.8, 27.6, 29.7, 29.8, 28.9, 28.2, 26.7, 27. , 24.3, 23.1, 20.2,\n       17.7, 16.8, 15.9, 15.5, 16.8, 19. , 19.8, 20.6, 22.4, 23.7, 25. ,\n       26.2, 26.3, 25.8, 27.1, 27.5, 27.5, 26.8, 24.3, 23.3, 22.4, 21.2,\n       19.8, 18.9, 17.8, 16.9, 16.4, 15.8, 15.6, 16.6, 16.9, 18.5, 19.5,\n       19.4, 20.6, 20.5, 20.8, 22.7, 22.3, 21.4, 17.3, 16.7, 16.1, 15.5,\n       15.4, 15.3, 15.4, 15.4, 15.4, 15.4, 15.3, 15.2, 15.1, 15.3, 15.8,\n       15.8, 15.8, 14.1, 13.6, 13.9, 14.1, 14.2, 14.2, 14.3, 15.6, 16.1,\n       15.4, 15.1, 14.4, 14.3, 14. , 13.2, 13. , 13.1, 13.5, 13.8, 13.8,\n       14.2, 14.7, 14.2, 13.5, 14.1, 15.6, 17.6, 17.6, 14.4, 15. , 15.6,\n       16.5, 15.5, 14.8, 14.2, 13.8, 12.7, 10.9,  8.9,  8.1,  7.2,  6.4,\n        5.8,  7.4,  7.6, 10.2, 11.1, 12.8, 15.2, 16.2, 17. , 17.7, 18.4,\n       18.5, 17.3, 13.8, 13.9, 14.4, 14.3, 13.6, 13.2, 13.2, 12.5])</pre></div></li><li class='xr-var-item'><div class='xr-var-name'><span>3002</span></div><div class='xr-var-dims'>(time)</div><div class='xr-var-dtype'>float64</div><div class='xr-var-preview xr-preview'>63.0 75.0 85.0 ... 98.0 99.0 100.0</div><input id='attrs-ac6c1fa8-4556-47d4-8970-b512dd714091' class='xr-var-attrs-in' type='checkbox' disabled><label for='attrs-ac6c1fa8-4556-47d4-8970-b512dd714091' title='Show/Hide attributes'><svg class='icon xr-icon-file-text2'><use xlink:href='#icon-file-text2'></use></svg></label><input id='data-9f8a7c38-4383-4254-a824-ddc95b99cddb' class='xr-var-data-in' type='checkbox'><label for='data-9f8a7c38-4383-4254-a824-ddc95b99cddb' title='Show/Hide data repr'><svg class='icon xr-icon-database'><use xlink:href='#icon-database'></use></svg></label><div class='xr-var-attrs'><dl class='xr-attrs'></dl></div><div class='xr-var-data'><pre>array([ 63.,  75.,  85.,  94.,  97.,  90.,  79.,  71.,  61.,  53.,  47.,\n        41.,  32.,  25.,  27.,  27.,  28.,  26.,  27.,  28.,  29.,  32.,\n        41.,  52.,  69.,  76.,  86.,  91.,  95.,  92.,  81.,  60.,  50.,\n        44.,  36.,  36.,  32.,  32.,  33.,  30.,  30.,  28.,  24.,  32.,\n        34.,  41.,  45.,  48.,  56.,  67.,  80.,  87.,  92.,  87.,  77.,\n        68.,  53.,  29.,  33.,  28.,  30.,  28.,  29.,  29.,  29.,  29.,\n        27.,  29.,  33.,  36.,  39.,  48.,  62.,  75.,  84.,  91.,  94.,\n        88.,  81.,  68.,  55.,  46.,  42.,  36.,  35.,  34.,  32.,  32.,\n        33.,  33.,  34.,  36.,  39.,  44.,  50.,  64.,  73.,  80.,  84.,\n        85.,  86.,  83.,  80.,  81.,  73.,  72.,  72.,  71.,  67.,  60.,\n        61.,  87.,  83.,  79.,  81.,  71.,  75.,  80.,  91.,  97.,  99.,\n       100., 100., 100., 100., 100., 100., 100.,  93.,  85.,  58.,  53.,\n        44.,  43.,  43.,  45.,  37.,  40.,  43.,  44.,  50.,  55.,  60.,\n        64.,  76.,  85.,  85.,  85.,  84.,  90.,  92.,  89.,  82.,  76.,\n        72.,  71.,  60.,  53.,  50.,  48.,  44.,  43.,  44.,  47.,  49.,\n        57.,  63.,  70.,  81.,  92.,  86.,  91.,  99.,  95.,  87.,  79.,\n        69.,  65.,  58.,  54.,  53.,  46.,  44.,  44.,  44.,  47.,  41.,\n        46.,  50.,  58.,  61.,  67.,  72.,  76.,  85.,  85.,  85.,  85.,\n        83.,  77.,  73.,  65.,  57.,  49.,  44.,  40.,  39.,  37.,  35.,\n        35.,  37.,  39.,  41.,  45.,  48.,  61.,  69.,  70.,  78.,  90.,\n...\n        46.,  51.,  59.,  65.,  73.,  77.,  82.,  83.,  78.,  65.,  56.,\n        47.,  39.,  37.,  31.,  28.,  29.,  28.,  27.,  27.,  27.,  26.,\n        28.,  29.,  34.,  44.,  48.,  57.,  70.,  77.,  85.,  85.,  79.,\n        69.,  64.,  57.,  50.,  41.,  38.,  33.,  32.,  30.,  31.,  31.,\n        32.,  31.,  31.,  32.,  39.,  44.,  57.,  63.,  68.,  78.,  88.,\n        81.,  80.,  75.,  69.,  59.,  52.,  44.,  44.,  39.,  37.,  35.,\n        28.,  25.,  28.,  29.,  30.,  40.,  47.,  53.,  64.,  66.,  83.,\n        86.,  88.,  87.,  80.,  79.,  72.,  63.,  52.,  41.,  35.,  33.,\n        34.,  35.,  30.,  29.,  31.,  33.,  42.,  36.,  43.,  53.,  63.,\n        72.,  78.,  84.,  90.,  87.,  78.,  71.,  71.,  61.,  56.,  52.,\n        48.,  43.,  45.,  40.,  39.,  38.,  38.,  55.,  63.,  69.,  67.,\n        69.,  73.,  74.,  77.,  77.,  76.,  76.,  72.,  68.,  61.,  52.,\n        52.,  46.,  49.,  49.,  41.,  46.,  54.,  86.,  94.,  94.,  95.,\n        95.,  97.,  98.,  99., 100., 100., 100., 100., 100., 100.,  98.,\n        97.,  97.,  89.,  99.,  99.,  91.,  94.,  96.,  95.,  93.,  89.,\n        82.,  82.,  92.,  91.,  91.,  94.,  99.,  99.,  99.,  98.,  98.,\n        98.,  96.,  96.,  96.,  94.,  82.,  77.,  71.,  86.,  88.,  80.,\n        74.,  74.,  76.,  72.,  72.,  76.,  85.,  97.,  99., 100., 100.,\n       100., 100., 100.,  90.,  89.,  78.,  66.,  51.,  46.,  48.,  46.,\n        49.,  55.,  91.,  95.,  94.,  96.,  99.,  98.,  99., 100.])</pre></div></li></ul></div></li><li class='xr-section-item'><input id='section-104c6490-f185-475e-8e3f-f2c649ea8162' class='xr-section-summary-in' type='checkbox'  checked><label for='section-104c6490-f185-475e-8e3f-f2c649ea8162' class='xr-section-summary' >Attributes: <span>(4)</span></label><div class='xr-section-inline-details'></div><div class='xr-section-details'><dl class='xr-attrs'><dt><span>weatherRessource :</span></dt><dd>fmi</dd><dt><span>stationId :</span></dt><dd>{&#x27;id&#x27;: 101104, &#x27;longitude&#x27;: 23.49825, &#x27;latitude&#x27;: 60.81397}</dd><dt><span>time :</span></dt><dd>{&#x27;timeStart&#x27;: &#x27;2020-06-11T21:00:00Z&#x27;, &#x27;timeEnd&#x27;: &#x27;2020-06-11T21:00:00Z&#x27;, &#x27;interval&#x27;: 3600, &#x27;timezone&#x27;: &#x27;UTC&#x27;}</dd><dt><span>parameter :</span></dt><dd>[1002, 3002]</dd></dl></div></li></ul></div></div>"
     },
     "metadata": {},
     "execution_count": 93
    }
   ],
   "source": [
    "d_array = xr.DataArray(\n",
    "    data=response['locationWeatherData'][0]['data'],\n",
    "    coords={'time':times,\n",
    "            'parameter':[str(el) for el in parameter],\n",
    "            'latitude':response['locationWeatherData'][0]['latitude'],\n",
    "            'longitude':response['locationWeatherData'][0]['longitude']\n",
    "           },\n",
    "    dims=['time','parameter']\n",
    ")\n",
    "\n",
    "# Attribute\n",
    "# Data attribute\n",
    "d_array.attrs['weatherRessource']= 'fmi'\n",
    "d_array.attrs[\"stationId\"]={\"id\":101104,\"longitude\":response['locationWeatherData'][0]['longitude'],\"latitude\":response['locationWeatherData'][0]['latitude']}\n",
    "d_array.attrs[\"time\"]={\"timeStart\":response['timeStart'], \"timeEnd\":response['timeStart'], \"interval\":3600,\"timezone\":\"UTC\"}\n",
    "d_array.attrs['parameter']= response[\"weatherParameters\"]\n",
    "\n",
    "\n",
    "\n",
    "d_array.to_dataset(dim=\"parameter\")"
   ]
  },
  {
   "cell_type": "code",
   "execution_count": 82,
   "metadata": {},
   "outputs": [
    {
     "output_type": "stream",
     "name": "stdout",
     "text": [
      "<xarray.DataArray 'parameter' ()>\narray('1002', dtype='<U4')\nCoordinates:\n    parameter  <U4 '1002'\n    latitude   float64 60.81\n    longitude  float64 23.5\n{'id': 1002, 'name': 'Mean air temperature at 2m', 'description': None, 'unit': 'Celcius'}\n<xarray.DataArray 'parameter' ()>\narray('3002', dtype='<U4')\nCoordinates:\n    parameter  <U4 '3002'\n    latitude   float64 60.81\n    longitude  float64 23.5\n{'id': 3002, 'name': 'Mean RH at 2m', 'description': None, 'unit': '%'}\n"
     ]
    }
   ],
   "source": [
    "\n",
    "\n"
   ]
  },
  {
   "cell_type": "code",
   "execution_count": null,
   "id": "1020b8ce",
   "metadata": {},
   "outputs": [],
   "source": [
    "# add attribute\n",
    "## coordinate attribute\n",
    "\n",
    "ds.coords['latitude'].attrs['name']='latitude'\n",
    "ds.coords['latitude'].attrs['unit']='degrees_north'\n",
    "\n",
    "ds.coords['longitude'].attrs['name']='longitude'\n",
    "ds.coords['longitude'].attrs['unit']='degrees_east'\n",
    "\n",
    "## variable attribute\n",
    "param = ipm.get_parameter()\n",
    "p={str(item['id']): item for item in param if item['id'] in response['weatherParameters']}\n",
    "\n",
    "for el in list(ds.data_vars):\n",
    "    ds.data_vars[el].attrs=p[str(el)]\n",
    "\n",
    "ds"
   ]
  },
  {
   "cell_type": "code",
   "execution_count": 60,
   "metadata": {},
   "outputs": [
    {
     "output_type": "execute_result",
     "data": {
      "text/plain": [
       "{'id': 1002,\n",
       " 'name': 'Mean air temperature at 2m',\n",
       " 'description': None,\n",
       " 'unit': 'Celcius'}"
      ]
     },
     "metadata": {},
     "execution_count": 60
    }
   ],
   "source": [
    "param = ipm.get_parameter()\n",
    "p=[item for item in param if item['id'] in response['weatherParameters']]\n"
   ]
  },
  {
   "cell_type": "code",
   "execution_count": null,
   "id": "9fa175f2",
   "metadata": {},
   "outputs": [],
   "source": [
    "import metpy.calc as mpcalc\n",
    "from metpy.units import units"
   ]
  },
  {
   "cell_type": "code",
   "execution_count": null,
   "id": "1268474e",
   "metadata": {},
   "outputs": [],
   "source": [
    "ds.data_vars[1002]"
   ]
  },
  {
   "cell_type": "code",
   "execution_count": null,
   "id": "dbc0e37c",
   "metadata": {},
   "outputs": [],
   "source": [
    "import cartopy.feature as cfeature\n",
    "import matplotlib.pyplot as plt\n",
    "import xarray as xr\n",
    "\n",
    "# Any import of metpy will activate the accessors\n",
    "from metpy.cbook import get_test_data\n",
    "\n",
    "#ds = xr.open_dataset(get_test_data('narr_example.nc', as_file_obj=False))\n",
    "data_var = ds.metpy.parse_cf(1002)"
   ]
  },
  {
   "cell_type": "code",
   "execution_count": null,
   "id": "60ae93b3",
   "metadata": {},
   "outputs": [],
   "source": [
    "\n",
    "x = data_var.x\n",
    "y = data_var.y\n",
    "im_data = data_var.isel(time=0).sel(isobaric=1000.)\n",
    "\n",
    "fig = plt.figure(figsize=(14, 14))\n",
    "ax = fig.add_subplot(1, 1, 1, projection=data_var.metpy.cartopy_crs)\n",
    "\n",
    "ax.imshow(im_data, extent=(x.min(), x.max(), y.min(), y.max()),\n",
    "          cmap='RdBu', origin='lower' if y[0] < y[-1] else 'upper')\n",
    "ax.coastlines(color='tab:green', resolution='10m')\n",
    "ax.add_feature(cfeature.LAKES.with_scale('10m'), facecolor='none', edgecolor='tab:blue')\n",
    "ax.add_feature(cfeature.RIVERS.with_scale('10m'), edgecolor='tab:blue')\n",
    "\n",
    "plt.show()"
   ]
  },
  {
   "cell_type": "code",
   "execution_count": null,
   "id": "a03224dd",
   "metadata": {},
   "outputs": [],
   "source": []
  }
 ],
 "metadata": {
  "kernelspec": {
   "name": "python392jvsc74a57bd0e3d71086babd06b205805665a54361591f9a05b12e14aacea9f6be46d547e7ae",
   "display_name": "Python 3.9.2 64-bit ('weatherdata': conda)"
  },
  "language_info": {
   "codemirror_mode": {
    "name": "ipython",
    "version": 3
   },
   "file_extension": ".py",
   "mimetype": "text/x-python",
   "name": "python",
   "nbconvert_exporter": "python",
   "pygments_lexer": "ipython3",
   "version": "3.9.2-final"
  }
 },
 "nbformat": 4,
 "nbformat_minor": 5
}